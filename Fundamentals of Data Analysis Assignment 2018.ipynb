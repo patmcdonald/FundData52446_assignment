{
 "cells": [
  {
   "cell_type": "markdown",
   "metadata": {},
   "source": [
    "## Fundamentals of Data Analysis Assignment 2018\n",
    "\n",
    "### Patrick McDonald G00281051\n",
    "\n",
    "### Problem statement of assignment\n",
    "\n",
    "#### This assignment concerns the well-known Anscombe’s quartet dataset. I shall carry out an analysis of this dataset using the following headings:\n",
    "\n",
    "1. Explain the background to the dataset – who created it, when it was created, and any speculation you can find regarding how it might have been created.\n",
    "\n",
    "2. Plot the interesting aspects of the dataset.\n",
    "\n",
    "3. Calculate the descriptive statistics of the variables in the dataset.\n",
    "\n",
    "4. Explain why the dataset is interesting, referring to the plots and statistics above.\n"
   ]
  }
 ],
 "metadata": {
  "kernelspec": {
   "display_name": "Python 3",
   "language": "python",
   "name": "python3"
  },
  "language_info": {
   "codemirror_mode": {
    "name": "ipython",
    "version": 3
   },
   "file_extension": ".py",
   "mimetype": "text/x-python",
   "name": "python",
   "nbconvert_exporter": "python",
   "pygments_lexer": "ipython3",
   "version": "3.6.5"
  }
 },
 "nbformat": 4,
 "nbformat_minor": 2
}
